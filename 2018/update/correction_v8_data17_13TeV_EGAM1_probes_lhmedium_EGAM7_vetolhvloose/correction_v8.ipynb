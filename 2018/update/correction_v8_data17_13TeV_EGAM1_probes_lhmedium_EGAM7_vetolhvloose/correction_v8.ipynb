{
 "cells": [
  {
   "cell_type": "markdown",
   "metadata": {},
   "source": [
    "# Set references for v8 tuning using the tansig\n",
    "\n",
    "This notebook is dedicated to apply the linear correction in the neural network output w.r.t the avgmu. \n",
    "\n",
    "**NOTE**: This is an extra study.\n",
    "\n",
    "**NOTE**: Get all models with 5 neurons."
   ]
  },
  {
   "cell_type": "code",
   "execution_count": 1,
   "metadata": {},
   "outputs": [
    {
     "name": "stdout",
     "output_type": "stream",
     "text": [
      "Welcome to JupyROOT 6.23/01\n",
      "Using all sub packages with ROOT dependence\n"
     ]
    }
   ],
   "source": [
    "from kolmov import crossval_table, get_color_fader, fit_table\n",
    "import saphyra\n",
    "import numpy as np\n",
    "import pandas as pd\n",
    "import collections\n",
    "import os\n",
    "import matplotlib\n",
    "import matplotlib.pyplot as plt\n",
    "from pprint import pprint\n",
    "%config InlineBackend.figure_format = 'retina'\n",
    "%load_ext autoreload\n",
    "%autoreload 2"
   ]
  },
  {
   "cell_type": "code",
   "execution_count": 2,
   "metadata": {},
   "outputs": [],
   "source": [
    "etbins = [15, 20, 30, 40, 50, 1000000]\n",
    "etabins = [0.0, 0.8, 1.37, 1.54, 2.37, 2.50]"
   ]
  },
  {
   "cell_type": "markdown",
   "metadata": {},
   "source": [
    "## 1) Reading all tunings:\n",
    "\n",
    "Since I don't have v6 tuning files available, I will reload the production files and get the models for each bin."
   ]
  },
  {
   "cell_type": "code",
   "execution_count": 3,
   "metadata": {},
   "outputs": [],
   "source": [
    "def get_models( location , etbins, etabins, remove_last=True):\n",
    "\n",
    "    from tensorflow.keras.models import Model, model_from_json\n",
    "    from tensorflow.keras.layers import Activation\n",
    "    import json\n",
    "    models = [[ None for _ in range(len(etabins)-1)] for __ in range(len(etbins)-1)]\n",
    "    for et_bin in range(len(etbins)-1):\n",
    "        for eta_bin in range(len(etabins)-1):\n",
    "            d_tuned = {}\n",
    "            path=location.format(ET=et_bin,ETA=3 if eta_bin==4 else eta_bin)\n",
    "            #print(path)\n",
    "            with open(path+'.json', 'r') as json_file:\n",
    "                model = model_from_json(json_file.read())\n",
    "                # load weights into new model\n",
    "                model.load_weights(path+\".h5\")\n",
    "                # since the production version has no tansig fucntion as default. Let's include it\n",
    "                # for study\n",
    "                model.add(Activation('tanh'))\n",
    "                new_model = Model(model.inputs, model.layers[-2].output) if remove_last else model\n",
    "                d_tuned['model']    = new_model\n",
    "                d_tuned['etBin']    = [etbins[et_bin], etbins[et_bin+1]]\n",
    "                d_tuned['etaBin']   = [etabins[eta_bin], etabins[eta_bin+1]]\n",
    "                d_tuned['etBinIdx'] = et_bin\n",
    "                d_tuned['etaBinIdx']= eta_bin\n",
    "                models[et_bin][eta_bin] = d_tuned\n",
    "                \n",
    "    # return the models's matrix          \n",
    "    return models\n",
    "\n",
    "model_path = '/Volumes/castor/tuning_data/Zee/production/TrigL2_20180125_v8/models'\n",
    "model_path+='/data17_13TeV_EGAM1_probes_lhmedium_EGAM7_vetolhvloose.model_v8.electronTight.et{ET}_eta{ETA}'\n",
    "best_models = get_models(model_path, etbins, etabins,remove_last=True)\n"
   ]
  },
  {
   "cell_type": "code",
   "execution_count": 4,
   "metadata": {},
   "outputs": [
    {
     "name": "stdout",
     "output_type": "stream",
     "text": [
      "Model: \"functional_1\"\n",
      "_________________________________________________________________\n",
      "Layer (type)                 Output Shape              Param #   \n",
      "=================================================================\n",
      "dense_input (InputLayer)     [(None, 100)]             0         \n",
      "_________________________________________________________________\n",
      "dense (Dense)                (None, 5)                 505       \n",
      "_________________________________________________________________\n",
      "dense_1 (Dense)              (None, 1)                 6         \n",
      "=================================================================\n",
      "Total params: 511\n",
      "Trainable params: 511\n",
      "Non-trainable params: 0\n",
      "_________________________________________________________________\n"
     ]
    }
   ],
   "source": [
    "best_models[0][0]['model'].summary()"
   ]
  },
  {
   "cell_type": "markdown",
   "metadata": {},
   "source": [
    "## 2) Linear correction:\n",
    "\n",
    "Here we will set all thresholds to operate as the same pd reference from cut-based using the pileup linear correction strategy. As the classifier efficiency has some \"dependence\" w.r.t the pileup we adopt the linear adjustment to \"fix\" the trigger efficiency. Here we will \"fix\" the neural network threshold w.r.t the pileup. \n",
    "\n",
    "### 2.1) Get all PD/Fas values:\n",
    "\n",
    "Read all reference values from the storage."
   ]
  },
  {
   "cell_type": "code",
   "execution_count": 5,
   "metadata": {},
   "outputs": [],
   "source": [
    "# calculate all pd/fa from reference file\n",
    "ref_path = '/Volumes/castor/cern_data/files/Zee/data17_13TeV.AllPeriods.sgn.probes_lhmedium_EGAM1.bkg.VProbes_EGAM7.GRL_v97/references/'\n",
    "ref_path+= 'data17_13TeV.AllPeriods.sgn.probes_lhmedium_EGAM1.bkg.VProbes_EGAM7.GRL_v97_et{ET}_eta{ETA}.ref.pic.gz'\n",
    "\n",
    "ref_paths = [[ ref_path.format(ET=et,ETA=eta) for eta in range(5)] for et in range(5)]\n",
    "ref_matrix = [[ {} for eta in range(5)] for et in range(5)]\n",
    "references = ['tight_cutbased', 'medium_cutbased' , 'loose_cutbased', 'vloose_cutbased']\n",
    "from saphyra.core import ReferenceReader\n",
    "for et_bin in range(5):\n",
    "    for eta_bin in range(5):\n",
    "        for name in references:\n",
    "            refObj = ReferenceReader().load(ref_paths[et_bin][eta_bin])\n",
    "            pd = refObj.getSgnPassed(name)/refObj.getSgnTotal(name)\n",
    "            fa = refObj.getBkgPassed(name)/refObj.getBkgTotal(name)\n",
    "            ref_matrix[et_bin][eta_bin][name] = {'pd':pd, 'fa':fa}"
   ]
  },
  {
   "cell_type": "markdown",
   "metadata": {},
   "source": [
    "### 2.2) Create data generator:\n",
    "\n",
    "Since each tuning models is fed by a different data organization, we need to create a generator to open the data file, prepare the matrix and apply some pre-processing (if needed)."
   ]
  },
  {
   "cell_type": "code",
   "execution_count": 6,
   "metadata": {},
   "outputs": [],
   "source": [
    "def generator( path ):\n",
    "    def norm1( data ):\n",
    "        norms = np.abs( data.sum(axis=1) )\n",
    "        norms[norms==0] = 1\n",
    "        return data/norms[:,None]\n",
    "    from Gaugi import load\n",
    "    d = load(path)\n",
    "    feature_names = d['features'].tolist()\n",
    "\n",
    "    # How many events?\n",
    "    n = d['data'].shape[0]\n",
    "    \n",
    "    # extract rings\n",
    "    data_rings = norm1(d['data'][:,1:101])\n",
    "    target = d['target']\n",
    "    avgmu = d['data'][:,0]\n",
    "    \n",
    "    return [data_rings], target, avgmu"
   ]
  },
  {
   "cell_type": "code",
   "execution_count": 7,
   "metadata": {},
   "outputs": [],
   "source": [
    "path = '/Volumes/castor/cern_data/files/Zee/data17_13TeV.AllPeriods.sgn.probes_lhmedium_EGAM1.bkg.VProbes_EGAM7.GRL_v97/'\n",
    "path+= 'data17_13TeV.AllPeriods.sgn.probes_lhmedium_EGAM1.bkg.VProbes_EGAM7.GRL_v97_et{ET}_eta{ETA}.npz'\n",
    "paths = [[ path.format(ET=et,ETA=eta) for eta in range(5)] for et in range(5)]"
   ]
  },
  {
   "cell_type": "code",
   "execution_count": 8,
   "metadata": {},
   "outputs": [],
   "source": [
    "# create the table class\n",
    "from ROOT import kBlackBody\n",
    "ct  = fit_table( generator, etbins , etabins, 0.001, 1.5, 16.5, 60.5, \n",
    "                 xmin_percentage=0.0, xmax_percentage=100, palette=kBlackBody )"
   ]
  },
  {
   "cell_type": "markdown",
   "metadata": {},
   "source": [
    "### 2.3) Apply linear correction:\n",
    "\n",
    "**NOTE**: Take about 25 minutes."
   ]
  },
  {
   "cell_type": "code",
   "execution_count": 9,
   "metadata": {},
   "outputs": [
    {
     "name": "stdout",
     "output_type": "stream",
     "text": [
      "\n",
      "Applying ATLAS style settings...\n",
      "Fitting... |############################################################| 25/25\n",
      "Fitting... ... finished task in 2629.850245s.\n"
     ]
    }
   ],
   "source": [
    "# Fill it\n",
    "ct.fill(paths, best_models, ref_matrix,'correction_v8_data17_13TeV_EGAM1_probes_lhmedium_EGAM7_VProbes')"
   ]
  },
  {
   "cell_type": "code",
   "execution_count": 10,
   "metadata": {},
   "outputs": [
    {
     "data": {
      "text/html": [
       "<div>\n",
       "<style scoped>\n",
       "    .dataframe tbody tr th:only-of-type {\n",
       "        vertical-align: middle;\n",
       "    }\n",
       "\n",
       "    .dataframe tbody tr th {\n",
       "        vertical-align: top;\n",
       "    }\n",
       "\n",
       "    .dataframe thead th {\n",
       "        text-align: right;\n",
       "    }\n",
       "</style>\n",
       "<table border=\"1\" class=\"dataframe\">\n",
       "  <thead>\n",
       "    <tr style=\"text-align: right;\">\n",
       "      <th></th>\n",
       "      <th>name</th>\n",
       "      <th>et_bin</th>\n",
       "      <th>eta_bin</th>\n",
       "      <th>reference_signal_passed</th>\n",
       "      <th>reference_signal_total</th>\n",
       "      <th>reference_signal_eff</th>\n",
       "      <th>reference_background_passed</th>\n",
       "      <th>reference_background_total</th>\n",
       "      <th>reference_background_eff</th>\n",
       "      <th>signal_passed</th>\n",
       "      <th>...</th>\n",
       "      <th>signal_eff</th>\n",
       "      <th>background_passed</th>\n",
       "      <th>background_total</th>\n",
       "      <th>background_eff</th>\n",
       "      <th>signal_corrected_passed</th>\n",
       "      <th>signal_corrected_total</th>\n",
       "      <th>signal_corrected_eff</th>\n",
       "      <th>background_corrected_passed</th>\n",
       "      <th>background_corrected_total</th>\n",
       "      <th>background_corrected_eff</th>\n",
       "    </tr>\n",
       "  </thead>\n",
       "  <tbody>\n",
       "    <tr>\n",
       "      <th>0</th>\n",
       "      <td>tight_cutbased</td>\n",
       "      <td>0</td>\n",
       "      <td>0</td>\n",
       "      <td>227619</td>\n",
       "      <td>232819</td>\n",
       "      <td>0.977666</td>\n",
       "      <td>23318</td>\n",
       "      <td>187639</td>\n",
       "      <td>0.124271</td>\n",
       "      <td>227616</td>\n",
       "      <td>...</td>\n",
       "      <td>0.977652</td>\n",
       "      <td>4695</td>\n",
       "      <td>187639</td>\n",
       "      <td>0.025021</td>\n",
       "      <td>227615</td>\n",
       "      <td>232819</td>\n",
       "      <td>0.977648</td>\n",
       "      <td>4541</td>\n",
       "      <td>187639</td>\n",
       "      <td>0.024201</td>\n",
       "    </tr>\n",
       "    <tr>\n",
       "      <th>1</th>\n",
       "      <td>medium_cutbased</td>\n",
       "      <td>0</td>\n",
       "      <td>0</td>\n",
       "      <td>227780</td>\n",
       "      <td>232819</td>\n",
       "      <td>0.978360</td>\n",
       "      <td>24336</td>\n",
       "      <td>187639</td>\n",
       "      <td>0.129701</td>\n",
       "      <td>227776</td>\n",
       "      <td>...</td>\n",
       "      <td>0.978339</td>\n",
       "      <td>4761</td>\n",
       "      <td>187639</td>\n",
       "      <td>0.025373</td>\n",
       "      <td>227754</td>\n",
       "      <td>232819</td>\n",
       "      <td>0.978245</td>\n",
       "      <td>4607</td>\n",
       "      <td>187639</td>\n",
       "      <td>0.024552</td>\n",
       "    </tr>\n",
       "    <tr>\n",
       "      <th>2</th>\n",
       "      <td>loose_cutbased</td>\n",
       "      <td>0</td>\n",
       "      <td>0</td>\n",
       "      <td>229996</td>\n",
       "      <td>232819</td>\n",
       "      <td>0.987876</td>\n",
       "      <td>31867</td>\n",
       "      <td>187639</td>\n",
       "      <td>0.169837</td>\n",
       "      <td>229994</td>\n",
       "      <td>...</td>\n",
       "      <td>0.987866</td>\n",
       "      <td>6541</td>\n",
       "      <td>187639</td>\n",
       "      <td>0.034859</td>\n",
       "      <td>229981</td>\n",
       "      <td>232819</td>\n",
       "      <td>0.987810</td>\n",
       "      <td>6385</td>\n",
       "      <td>187639</td>\n",
       "      <td>0.034028</td>\n",
       "    </tr>\n",
       "    <tr>\n",
       "      <th>3</th>\n",
       "      <td>vloose_cutbased</td>\n",
       "      <td>0</td>\n",
       "      <td>0</td>\n",
       "      <td>230152</td>\n",
       "      <td>232819</td>\n",
       "      <td>0.988548</td>\n",
       "      <td>32748</td>\n",
       "      <td>187639</td>\n",
       "      <td>0.174527</td>\n",
       "      <td>230150</td>\n",
       "      <td>...</td>\n",
       "      <td>0.988536</td>\n",
       "      <td>6767</td>\n",
       "      <td>187639</td>\n",
       "      <td>0.036064</td>\n",
       "      <td>230132</td>\n",
       "      <td>232819</td>\n",
       "      <td>0.988459</td>\n",
       "      <td>6613</td>\n",
       "      <td>187639</td>\n",
       "      <td>0.035243</td>\n",
       "    </tr>\n",
       "    <tr>\n",
       "      <th>4</th>\n",
       "      <td>tight_cutbased</td>\n",
       "      <td>0</td>\n",
       "      <td>1</td>\n",
       "      <td>137861</td>\n",
       "      <td>141000</td>\n",
       "      <td>0.977742</td>\n",
       "      <td>31938</td>\n",
       "      <td>143657</td>\n",
       "      <td>0.222321</td>\n",
       "      <td>137861</td>\n",
       "      <td>...</td>\n",
       "      <td>0.977738</td>\n",
       "      <td>5785</td>\n",
       "      <td>143657</td>\n",
       "      <td>0.040270</td>\n",
       "      <td>137855</td>\n",
       "      <td>141000</td>\n",
       "      <td>0.977695</td>\n",
       "      <td>5649</td>\n",
       "      <td>143657</td>\n",
       "      <td>0.039323</td>\n",
       "    </tr>\n",
       "  </tbody>\n",
       "</table>\n",
       "<p>5 rows × 21 columns</p>\n",
       "</div>"
      ],
      "text/plain": [
       "              name  et_bin  eta_bin  reference_signal_passed  \\\n",
       "0   tight_cutbased       0        0                   227619   \n",
       "1  medium_cutbased       0        0                   227780   \n",
       "2   loose_cutbased       0        0                   229996   \n",
       "3  vloose_cutbased       0        0                   230152   \n",
       "4   tight_cutbased       0        1                   137861   \n",
       "\n",
       "   reference_signal_total  reference_signal_eff  reference_background_passed  \\\n",
       "0                  232819              0.977666                        23318   \n",
       "1                  232819              0.978360                        24336   \n",
       "2                  232819              0.987876                        31867   \n",
       "3                  232819              0.988548                        32748   \n",
       "4                  141000              0.977742                        31938   \n",
       "\n",
       "   reference_background_total  reference_background_eff  signal_passed  ...  \\\n",
       "0                      187639                  0.124271         227616  ...   \n",
       "1                      187639                  0.129701         227776  ...   \n",
       "2                      187639                  0.169837         229994  ...   \n",
       "3                      187639                  0.174527         230150  ...   \n",
       "4                      143657                  0.222321         137861  ...   \n",
       "\n",
       "   signal_eff  background_passed  background_total  background_eff  \\\n",
       "0    0.977652               4695            187639        0.025021   \n",
       "1    0.978339               4761            187639        0.025373   \n",
       "2    0.987866               6541            187639        0.034859   \n",
       "3    0.988536               6767            187639        0.036064   \n",
       "4    0.977738               5785            143657        0.040270   \n",
       "\n",
       "   signal_corrected_passed  signal_corrected_total  signal_corrected_eff  \\\n",
       "0                   227615                  232819              0.977648   \n",
       "1                   227754                  232819              0.978245   \n",
       "2                   229981                  232819              0.987810   \n",
       "3                   230132                  232819              0.988459   \n",
       "4                   137855                  141000              0.977695   \n",
       "\n",
       "   background_corrected_passed  background_corrected_total  \\\n",
       "0                         4541                      187639   \n",
       "1                         4607                      187639   \n",
       "2                         6385                      187639   \n",
       "3                         6613                      187639   \n",
       "4                         5649                      143657   \n",
       "\n",
       "   background_corrected_eff  \n",
       "0                  0.024201  \n",
       "1                  0.024552  \n",
       "2                  0.034028  \n",
       "3                  0.035243  \n",
       "4                  0.039323  \n",
       "\n",
       "[5 rows x 21 columns]"
      ]
     },
     "execution_count": 10,
     "metadata": {},
     "output_type": "execute_result"
    }
   ],
   "source": [
    "ct.table().head()"
   ]
  },
  {
   "cell_type": "markdown",
   "metadata": {},
   "source": [
    "### 2.3) Create beamer report:"
   ]
  },
  {
   "cell_type": "code",
   "execution_count": 11,
   "metadata": {},
   "outputs": [
    {
     "name": "stdout",
     "output_type": "stream",
     "text": [
      "2021-02-15 12:40:18,975 | Py.BeamerTexReportTemplate1             INFO Started creating beamer file correction_v8_data17_13TeV_EGAM1_probes_lhmedium_EGAM7_VProbes.pdf latex code...\n"
     ]
    }
   ],
   "source": [
    "ct.dump_beamer_table(ct.table(), best_models, 'data17_13TeV v8 tuning', \n",
    "                                              'correction_v8_data17_13TeV_EGAM1_probes_lhmedium_EGAM7_VProbes.pdf')"
   ]
  },
  {
   "cell_type": "code",
   "execution_count": null,
   "metadata": {},
   "outputs": [],
   "source": []
  }
 ],
 "metadata": {
  "kernelspec": {
   "display_name": "Python 3",
   "language": "python",
   "name": "python3"
  },
  "language_info": {
   "codemirror_mode": {
    "name": "ipython",
    "version": 3
   },
   "file_extension": ".py",
   "mimetype": "text/x-python",
   "name": "python",
   "nbconvert_exporter": "python",
   "pygments_lexer": "ipython3",
   "version": "3.7.9"
  }
 },
 "nbformat": 4,
 "nbformat_minor": 4
}
